{
 "cells": [
  {
   "cell_type": "code",
   "execution_count": 116,
   "metadata": {},
   "outputs": [],
   "source": [
    "import pandas as pd\n",
    "import numpy as np\n",
    "import matplotlib.pyplot as plt\n",
    "import seaborn as sns\n",
    "import statsmodels.api as sm\n",
    "import statsmodels.formula.api as smf\n",
    "\n",
    "from sklearn.model_selection import train_test_split\n",
    "from sklearn.metrics import roc_auc_score, roc_curve, classification_report,accuracy_score\n",
    "from sklearn.metrics import recall_score, precision_score, f1_score, confusion_matrix, auc\n",
    "from sklearn.linear_model import LogisticRegression\n",
    "\n",
    "%matplotlib inline"
   ]
  },
  {
   "cell_type": "code",
   "execution_count": 117,
   "metadata": {},
   "outputs": [],
   "source": [
    "# importar os dados sobre usuários\n",
    "df = pd.read_csv('usuarios_data.csv')"
   ]
  },
  {
   "cell_type": "markdown",
   "metadata": {},
   "source": [
    "## Dicionário de Variáveis\n",
    "\n",
    "Esse arquivo csv possui 11 colunas. São elas:\n",
    "\n",
    "<strong>-Nome:</strong> Nome do(a) Usuário(a) registrado no site.<br>\n",
    "<strong>-Idade:</strong> Idade do(a) Usuário(a).<br>\n",
    "<strong>-Email:</strong> Email de cadastro do(a) Usuário(a).<br>\n",
    "<strong>-Gênero:</strong> Gênero declarado pelo(a) Usuário(a).<br>\n",
    "    <li>Masculino - M</li>\n",
    "    <li>Feminino - F</li>\n",
    "<strong>-Cep:</strong> Cep da residência do(a) Usuário(a).<br>\n",
    "<strong>-Cidade/Estado:</strong> Cidade/Estado da residência do(a) Usuário(a).<br>\n",
    "<strong>-Bairro:</strong> Bairro da residência do(a) Usuário(a).<br>\n",
    "<strong>-Usuário(a) ativo(a):</strong> Situação de atividade do(a) Usuário(a).<br>\n",
    "    <li>0 para Avito - Usuário efetuou compra na última semana.</li>\n",
    "    <li>1 para Inativo - Usuário não efetuou compra na última semana.</li>\n",
    "<strong>-Produto:</strong> Produto comprado.<br>\n",
    "<strong>-Valor:</strong> Valor do produto.<br>\n",
    "<strong>-Data:</strong> Data da compra.<br>"
   ]
  },
  {
   "cell_type": "markdown",
   "metadata": {},
   "source": [
    "## Análise Exploratória dos Dados"
   ]
  },
  {
   "cell_type": "code",
   "execution_count": 118,
   "metadata": {},
   "outputs": [
    {
     "data": {
      "text/html": [
       "<div>\n",
       "<style scoped>\n",
       "    .dataframe tbody tr th:only-of-type {\n",
       "        vertical-align: middle;\n",
       "    }\n",
       "\n",
       "    .dataframe tbody tr th {\n",
       "        vertical-align: top;\n",
       "    }\n",
       "\n",
       "    .dataframe thead th {\n",
       "        text-align: right;\n",
       "    }\n",
       "</style>\n",
       "<table border=\"1\" class=\"dataframe\">\n",
       "  <thead>\n",
       "    <tr style=\"text-align: right;\">\n",
       "      <th></th>\n",
       "      <th>nome</th>\n",
       "      <th>idade</th>\n",
       "      <th>email</th>\n",
       "      <th>genero</th>\n",
       "      <th>cep</th>\n",
       "      <th>cidade_estado</th>\n",
       "      <th>bairro</th>\n",
       "      <th>user_ativo</th>\n",
       "      <th>produto</th>\n",
       "      <th>produto_valor</th>\n",
       "      <th>data_compra</th>\n",
       "    </tr>\n",
       "  </thead>\n",
       "  <tbody>\n",
       "    <tr>\n",
       "      <th>805677</th>\n",
       "      <td>Keith Mckenzie</td>\n",
       "      <td>42</td>\n",
       "      <td>anafreisa.teste@gmail.com</td>\n",
       "      <td>M</td>\n",
       "      <td>6460971</td>\n",
       "      <td>Barueri/SP</td>\n",
       "      <td>Tamboré</td>\n",
       "      <td>0</td>\n",
       "      <td>Vinho Tinto</td>\n",
       "      <td>69.9</td>\n",
       "      <td>2021-03-20</td>\n",
       "    </tr>\n",
       "    <tr>\n",
       "      <th>473016</th>\n",
       "      <td>Gregory Moore</td>\n",
       "      <td>44</td>\n",
       "      <td>anafreisa.teste@gmail.com</td>\n",
       "      <td>M</td>\n",
       "      <td>85912180</td>\n",
       "      <td>Toledo/PR</td>\n",
       "      <td>Jardim Panorama</td>\n",
       "      <td>1</td>\n",
       "      <td>Cerveja</td>\n",
       "      <td>4.0</td>\n",
       "      <td>2021-03-26</td>\n",
       "    </tr>\n",
       "    <tr>\n",
       "      <th>500898</th>\n",
       "      <td>Lori Hinton</td>\n",
       "      <td>50</td>\n",
       "      <td>anafreisa.teste@gmail.com</td>\n",
       "      <td>M</td>\n",
       "      <td>17604080</td>\n",
       "      <td>Tupã/SP</td>\n",
       "      <td>Centro</td>\n",
       "      <td>1</td>\n",
       "      <td>Cerveja</td>\n",
       "      <td>4.0</td>\n",
       "      <td>2021-03-26</td>\n",
       "    </tr>\n",
       "    <tr>\n",
       "      <th>34236</th>\n",
       "      <td>Diana Gonzalez</td>\n",
       "      <td>31</td>\n",
       "      <td>anafreisa.teste@gmail.com</td>\n",
       "      <td>F</td>\n",
       "      <td>2074030</td>\n",
       "      <td>São Paulo/SP</td>\n",
       "      <td>Vila Paiva</td>\n",
       "      <td>1</td>\n",
       "      <td>Vodka</td>\n",
       "      <td>33.8</td>\n",
       "      <td>2021-03-27</td>\n",
       "    </tr>\n",
       "    <tr>\n",
       "      <th>550078</th>\n",
       "      <td>Jorge Townsend</td>\n",
       "      <td>54</td>\n",
       "      <td>anafreisa.teste@gmail.com</td>\n",
       "      <td>F</td>\n",
       "      <td>6270300</td>\n",
       "      <td>Osasco/SP</td>\n",
       "      <td>Vila Menck</td>\n",
       "      <td>1</td>\n",
       "      <td>Vinho Branco</td>\n",
       "      <td>56.9</td>\n",
       "      <td>2021-03-27</td>\n",
       "    </tr>\n",
       "  </tbody>\n",
       "</table>\n",
       "</div>"
      ],
      "text/plain": [
       "                  nome  idade                      email genero       cep  \\\n",
       "805677  Keith Mckenzie     42  anafreisa.teste@gmail.com      M   6460971   \n",
       "473016   Gregory Moore     44  anafreisa.teste@gmail.com      M  85912180   \n",
       "500898     Lori Hinton     50  anafreisa.teste@gmail.com      M  17604080   \n",
       "34236   Diana Gonzalez     31  anafreisa.teste@gmail.com      F   2074030   \n",
       "550078  Jorge Townsend     54  anafreisa.teste@gmail.com      F   6270300   \n",
       "\n",
       "       cidade_estado           bairro  user_ativo       produto  \\\n",
       "805677    Barueri/SP          Tamboré           0   Vinho Tinto   \n",
       "473016     Toledo/PR  Jardim Panorama           1       Cerveja   \n",
       "500898       Tupã/SP           Centro           1       Cerveja   \n",
       "34236   São Paulo/SP       Vila Paiva           1         Vodka   \n",
       "550078     Osasco/SP       Vila Menck           1  Vinho Branco   \n",
       "\n",
       "        produto_valor data_compra  \n",
       "805677           69.9  2021-03-20  \n",
       "473016            4.0  2021-03-26  \n",
       "500898            4.0  2021-03-26  \n",
       "34236            33.8  2021-03-27  \n",
       "550078           56.9  2021-03-27  "
      ]
     },
     "execution_count": 118,
     "metadata": {},
     "output_type": "execute_result"
    }
   ],
   "source": [
    "df.sample(5)"
   ]
  },
  {
   "cell_type": "code",
   "execution_count": 119,
   "metadata": {},
   "outputs": [
    {
     "data": {
      "text/plain": [
       "(1000000, 11)"
      ]
     },
     "execution_count": 119,
     "metadata": {},
     "output_type": "execute_result"
    }
   ],
   "source": [
    "df.shape"
   ]
  },
  {
   "cell_type": "markdown",
   "metadata": {},
   "source": [
    "Base de dados com 1 milhão de entradas com informações sobre cada compra efetuada no site."
   ]
  },
  {
   "cell_type": "code",
   "execution_count": 120,
   "metadata": {},
   "outputs": [
    {
     "data": {
      "text/plain": [
       "nome                 0\n",
       "idade                0\n",
       "email                0\n",
       "genero               0\n",
       "cep                  0\n",
       "cidade_estado        0\n",
       "bairro           15150\n",
       "user_ativo           0\n",
       "produto              0\n",
       "produto_valor        0\n",
       "data_compra          0\n",
       "dtype: int64"
      ]
     },
     "execution_count": 120,
     "metadata": {},
     "output_type": "execute_result"
    }
   ],
   "source": [
    "df.isnull().sum()"
   ]
  },
  {
   "cell_type": "code",
   "execution_count": 121,
   "metadata": {},
   "outputs": [
    {
     "name": "stdout",
     "output_type": "stream",
     "text": [
      "Percentual de Bairros sem informação: 1.54%\n"
     ]
    }
   ],
   "source": [
    "bairro_isnull = df.bairro.isnull().sum()\n",
    "bairro_count = df.bairro.count()\n",
    "percent_bairro_null = ((100 * bairro_isnull) / bairro_count).round(2)\n",
    "print(f'Percentual de Bairros sem informação: {percent_bairro_null}%')"
   ]
  },
  {
   "cell_type": "markdown",
   "metadata": {},
   "source": [
    "Como este número é muito pequeno, não invalida o uso dessa variável."
   ]
  },
  {
   "cell_type": "code",
   "execution_count": 122,
   "metadata": {},
   "outputs": [
    {
     "data": {
      "text/plain": [
       "<AxesSubplot:>"
      ]
     },
     "execution_count": 122,
     "metadata": {},
     "output_type": "execute_result"
    },
    {
     "data": {
      "image/png": "[encoded data removed]",
      "text/plain": [
       "<Figure size 432x288 with 1 Axes>"
      ]
     },
     "metadata": {
      "needs_background": "light"
     },
     "output_type": "display_data"
    }
   ],
   "source": [
    "df.boxplot(column=['produto_valor'])"
   ]
  },
  {
   "cell_type": "markdown",
   "metadata": {},
   "source": [
    "Nenhum dado de valor de produto fora do esperado."
   ]
  },
  {
   "cell_type": "code",
   "execution_count": 123,
   "metadata": {},
   "outputs": [
    {
     "data": {
      "text/html": [
       "<div>\n",
       "<style scoped>\n",
       "    .dataframe tbody tr th:only-of-type {\n",
       "        vertical-align: middle;\n",
       "    }\n",
       "\n",
       "    .dataframe tbody tr th {\n",
       "        vertical-align: top;\n",
       "    }\n",
       "\n",
       "    .dataframe thead th {\n",
       "        text-align: right;\n",
       "    }\n",
       "</style>\n",
       "<table border=\"1\" class=\"dataframe\">\n",
       "  <thead>\n",
       "    <tr style=\"text-align: right;\">\n",
       "      <th></th>\n",
       "      <th>nome</th>\n",
       "      <th>idade</th>\n",
       "      <th>email</th>\n",
       "      <th>genero</th>\n",
       "      <th>cep</th>\n",
       "      <th>cidade_estado</th>\n",
       "      <th>bairro</th>\n",
       "      <th>user_ativo</th>\n",
       "      <th>produto</th>\n",
       "      <th>produto_valor</th>\n",
       "      <th>data_compra</th>\n",
       "    </tr>\n",
       "  </thead>\n",
       "  <tbody>\n",
       "    <tr>\n",
       "      <th>345</th>\n",
       "      <td>Michael Barton</td>\n",
       "      <td>23</td>\n",
       "      <td>anafreisa.teste@gmail.com</td>\n",
       "      <td>M</td>\n",
       "      <td>25725510</td>\n",
       "      <td>Petrópolis/RJ</td>\n",
       "      <td>Fazenda Inglesa</td>\n",
       "      <td>1</td>\n",
       "      <td>Tequila</td>\n",
       "      <td>95.99</td>\n",
       "      <td>2021-03-23</td>\n",
       "    </tr>\n",
       "    <tr>\n",
       "      <th>417</th>\n",
       "      <td>James Smith</td>\n",
       "      <td>50</td>\n",
       "      <td>anafreisa.teste@gmail.com</td>\n",
       "      <td>F</td>\n",
       "      <td>54518475</td>\n",
       "      <td>Cabo de Santo Agostinho/PE</td>\n",
       "      <td>Garapu</td>\n",
       "      <td>0</td>\n",
       "      <td>Cerveja</td>\n",
       "      <td>4.00</td>\n",
       "      <td>2021-03-03</td>\n",
       "    </tr>\n",
       "    <tr>\n",
       "      <th>424</th>\n",
       "      <td>James Martinez</td>\n",
       "      <td>55</td>\n",
       "      <td>anafreisa.teste@gmail.com</td>\n",
       "      <td>F</td>\n",
       "      <td>11609515</td>\n",
       "      <td>São Sebastião/SP</td>\n",
       "      <td>Industrial</td>\n",
       "      <td>0</td>\n",
       "      <td>Refrigerante Cola</td>\n",
       "      <td>3.50</td>\n",
       "      <td>2021-03-22</td>\n",
       "    </tr>\n",
       "    <tr>\n",
       "      <th>491</th>\n",
       "      <td>Nicole Lee</td>\n",
       "      <td>28</td>\n",
       "      <td>anafreisa.teste@gmail.com</td>\n",
       "      <td>M</td>\n",
       "      <td>25926780</td>\n",
       "      <td>Magé/RJ</td>\n",
       "      <td>Jardim da Paz (Guia de Pacobaíba)</td>\n",
       "      <td>1</td>\n",
       "      <td>Cerveja</td>\n",
       "      <td>4.00</td>\n",
       "      <td>2021-03-24</td>\n",
       "    </tr>\n",
       "    <tr>\n",
       "      <th>541</th>\n",
       "      <td>William Jones</td>\n",
       "      <td>27</td>\n",
       "      <td>anafreisa.teste@gmail.com</td>\n",
       "      <td>F</td>\n",
       "      <td>83707080</td>\n",
       "      <td>Araucária/PR</td>\n",
       "      <td>Thomaz Coelho</td>\n",
       "      <td>0</td>\n",
       "      <td>Cerveja</td>\n",
       "      <td>4.00</td>\n",
       "      <td>2021-03-17</td>\n",
       "    </tr>\n",
       "    <tr>\n",
       "      <th>...</th>\n",
       "      <td>...</td>\n",
       "      <td>...</td>\n",
       "      <td>...</td>\n",
       "      <td>...</td>\n",
       "      <td>...</td>\n",
       "      <td>...</td>\n",
       "      <td>...</td>\n",
       "      <td>...</td>\n",
       "      <td>...</td>\n",
       "      <td>...</td>\n",
       "      <td>...</td>\n",
       "    </tr>\n",
       "    <tr>\n",
       "      <th>999993</th>\n",
       "      <td>Kimberly Hill</td>\n",
       "      <td>51</td>\n",
       "      <td>anafreisa.teste@gmail.com</td>\n",
       "      <td>M</td>\n",
       "      <td>78080065</td>\n",
       "      <td>Cuiabá/MT</td>\n",
       "      <td>Chácara dos Pinheiros</td>\n",
       "      <td>0</td>\n",
       "      <td>Tequila</td>\n",
       "      <td>95.99</td>\n",
       "      <td>2021-03-07</td>\n",
       "    </tr>\n",
       "    <tr>\n",
       "      <th>999994</th>\n",
       "      <td>Richard Elliott</td>\n",
       "      <td>29</td>\n",
       "      <td>anafreisa.teste@gmail.com</td>\n",
       "      <td>M</td>\n",
       "      <td>49071130</td>\n",
       "      <td>Aracaju/SE</td>\n",
       "      <td>Cidade Nova</td>\n",
       "      <td>0</td>\n",
       "      <td>Refrigerante Cola</td>\n",
       "      <td>3.50</td>\n",
       "      <td>2021-03-06</td>\n",
       "    </tr>\n",
       "    <tr>\n",
       "      <th>999997</th>\n",
       "      <td>Melissa Serrano</td>\n",
       "      <td>28</td>\n",
       "      <td>anafreisa.teste@gmail.com</td>\n",
       "      <td>M</td>\n",
       "      <td>13013101</td>\n",
       "      <td>Campinas/SP</td>\n",
       "      <td>Centro</td>\n",
       "      <td>1</td>\n",
       "      <td>Água</td>\n",
       "      <td>2.29</td>\n",
       "      <td>2021-03-24</td>\n",
       "    </tr>\n",
       "    <tr>\n",
       "      <th>999998</th>\n",
       "      <td>Kelly Harvey</td>\n",
       "      <td>26</td>\n",
       "      <td>anafreisa.teste@gmail.com</td>\n",
       "      <td>M</td>\n",
       "      <td>74370463</td>\n",
       "      <td>Goiânia/GO</td>\n",
       "      <td>Residencial Aquários</td>\n",
       "      <td>1</td>\n",
       "      <td>Vinho Branco</td>\n",
       "      <td>56.90</td>\n",
       "      <td>2021-03-25</td>\n",
       "    </tr>\n",
       "    <tr>\n",
       "      <th>999999</th>\n",
       "      <td>Julie Miller</td>\n",
       "      <td>65</td>\n",
       "      <td>anafreisa.teste@gmail.com</td>\n",
       "      <td>M</td>\n",
       "      <td>53060699</td>\n",
       "      <td>Olinda/PE</td>\n",
       "      <td>Fragoso</td>\n",
       "      <td>0</td>\n",
       "      <td>Refrigerante Guaraná</td>\n",
       "      <td>2.30</td>\n",
       "      <td>2021-03-13</td>\n",
       "    </tr>\n",
       "  </tbody>\n",
       "</table>\n",
       "<p>670133 rows × 11 columns</p>\n",
       "</div>"
      ],
      "text/plain": [
       "                   nome  idade                      email genero       cep  \\\n",
       "345      Michael Barton     23  anafreisa.teste@gmail.com      M  25725510   \n",
       "417         James Smith     50  anafreisa.teste@gmail.com      F  54518475   \n",
       "424      James Martinez     55  anafreisa.teste@gmail.com      F  11609515   \n",
       "491          Nicole Lee     28  anafreisa.teste@gmail.com      M  25926780   \n",
       "541       William Jones     27  anafreisa.teste@gmail.com      F  83707080   \n",
       "...                 ...    ...                        ...    ...       ...   \n",
       "999993    Kimberly Hill     51  anafreisa.teste@gmail.com      M  78080065   \n",
       "999994  Richard Elliott     29  anafreisa.teste@gmail.com      M  49071130   \n",
       "999997  Melissa Serrano     28  anafreisa.teste@gmail.com      M  13013101   \n",
       "999998     Kelly Harvey     26  anafreisa.teste@gmail.com      M  74370463   \n",
       "999999     Julie Miller     65  anafreisa.teste@gmail.com      M  53060699   \n",
       "\n",
       "                     cidade_estado                             bairro  \\\n",
       "345                  Petrópolis/RJ                    Fazenda Inglesa   \n",
       "417     Cabo de Santo Agostinho/PE                             Garapu   \n",
       "424               São Sebastião/SP                         Industrial   \n",
       "491                        Magé/RJ  Jardim da Paz (Guia de Pacobaíba)   \n",
       "541                   Araucária/PR                      Thomaz Coelho   \n",
       "...                            ...                                ...   \n",
       "999993                   Cuiabá/MT              Chácara dos Pinheiros   \n",
       "999994                  Aracaju/SE                        Cidade Nova   \n",
       "999997                 Campinas/SP                             Centro   \n",
       "999998                  Goiânia/GO               Residencial Aquários   \n",
       "999999                   Olinda/PE                            Fragoso   \n",
       "\n",
       "        user_ativo               produto  produto_valor data_compra  \n",
       "345              1               Tequila          95.99  2021-03-23  \n",
       "417              0               Cerveja           4.00  2021-03-03  \n",
       "424              0     Refrigerante Cola           3.50  2021-03-22  \n",
       "491              1               Cerveja           4.00  2021-03-24  \n",
       "541              0               Cerveja           4.00  2021-03-17  \n",
       "...            ...                   ...            ...         ...  \n",
       "999993           0               Tequila          95.99  2021-03-07  \n",
       "999994           0     Refrigerante Cola           3.50  2021-03-06  \n",
       "999997           1                  Água           2.29  2021-03-24  \n",
       "999998           1          Vinho Branco          56.90  2021-03-25  \n",
       "999999           0  Refrigerante Guaraná           2.30  2021-03-13  \n",
       "\n",
       "[670133 rows x 11 columns]"
      ]
     },
     "execution_count": 123,
     "metadata": {},
     "output_type": "execute_result"
    }
   ],
   "source": [
    "df[df.nome.duplicated()]"
   ]
  },
  {
   "cell_type": "code",
   "execution_count": 124,
   "metadata": {},
   "outputs": [
    {
     "data": {
      "text/html": [
       "<div>\n",
       "<style scoped>\n",
       "    .dataframe tbody tr th:only-of-type {\n",
       "        vertical-align: middle;\n",
       "    }\n",
       "\n",
       "    .dataframe tbody tr th {\n",
       "        vertical-align: top;\n",
       "    }\n",
       "\n",
       "    .dataframe thead th {\n",
       "        text-align: right;\n",
       "    }\n",
       "</style>\n",
       "<table border=\"1\" class=\"dataframe\">\n",
       "  <thead>\n",
       "    <tr style=\"text-align: right;\">\n",
       "      <th></th>\n",
       "      <th>nome</th>\n",
       "      <th>idade</th>\n",
       "      <th>email</th>\n",
       "      <th>genero</th>\n",
       "      <th>cep</th>\n",
       "      <th>cidade_estado</th>\n",
       "      <th>bairro</th>\n",
       "      <th>user_ativo</th>\n",
       "      <th>produto</th>\n",
       "      <th>produto_valor</th>\n",
       "      <th>data_compra</th>\n",
       "    </tr>\n",
       "  </thead>\n",
       "  <tbody>\n",
       "  </tbody>\n",
       "</table>\n",
       "</div>"
      ],
      "text/plain": [
       "Empty DataFrame\n",
       "Columns: [nome, idade, email, genero, cep, cidade_estado, bairro, user_ativo, produto, produto_valor, data_compra]\n",
       "Index: []"
      ]
     },
     "execution_count": 124,
     "metadata": {},
     "output_type": "execute_result"
    }
   ],
   "source": [
    "df[(df.nome=='Danielle Scott') & (df.produto=='Tequila') & (df.cidade_estado=='Jaboatão dos Guararapes/PE')]"
   ]
  },
  {
   "cell_type": "code",
   "execution_count": 125,
   "metadata": {},
   "outputs": [
    {
     "data": {
      "text/html": [
       "<div>\n",
       "<style scoped>\n",
       "    .dataframe tbody tr th:only-of-type {\n",
       "        vertical-align: middle;\n",
       "    }\n",
       "\n",
       "    .dataframe tbody tr th {\n",
       "        vertical-align: top;\n",
       "    }\n",
       "\n",
       "    .dataframe thead th {\n",
       "        text-align: right;\n",
       "    }\n",
       "</style>\n",
       "<table border=\"1\" class=\"dataframe\">\n",
       "  <thead>\n",
       "    <tr style=\"text-align: right;\">\n",
       "      <th></th>\n",
       "      <th>nome</th>\n",
       "      <th>idade</th>\n",
       "      <th>email</th>\n",
       "      <th>genero</th>\n",
       "      <th>cep</th>\n",
       "      <th>cidade_estado</th>\n",
       "      <th>bairro</th>\n",
       "      <th>user_ativo</th>\n",
       "      <th>produto</th>\n",
       "      <th>produto_valor</th>\n",
       "      <th>data_compra</th>\n",
       "    </tr>\n",
       "  </thead>\n",
       "  <tbody>\n",
       "  </tbody>\n",
       "</table>\n",
       "</div>"
      ],
      "text/plain": [
       "Empty DataFrame\n",
       "Columns: [nome, idade, email, genero, cep, cidade_estado, bairro, user_ativo, produto, produto_valor, data_compra]\n",
       "Index: []"
      ]
     },
     "execution_count": 125,
     "metadata": {},
     "output_type": "execute_result"
    }
   ],
   "source": [
    "df[(df.nome=='Christopher Johnson') & (df.produto=='whisky') & (df.cidade_estado=='Porto Alegre/RS')]"
   ]
  },
  {
   "cell_type": "markdown",
   "metadata": {},
   "source": [
    "As entradas com nome duplicadas referem se a diferentes compras do usuário ou homônimos."
   ]
  },
  {
   "cell_type": "markdown",
   "metadata": {},
   "source": [
    "# Análise de Vendas e Receitas"
   ]
  },
  {
   "cell_type": "markdown",
   "metadata": {},
   "source": [
    "## Produtos que mais vendem"
   ]
  },
  {
   "cell_type": "code",
   "execution_count": 126,
   "metadata": {},
   "outputs": [
    {
     "data": {
      "text/plain": [
       "produto\n",
       "Cerveja                 160287\n",
       "Vinho Tinto             157665\n",
       "Refrigerante Guaraná    136103\n",
       "Vinho Branco            129470\n",
       "Refrigerante Cola       103334\n",
       "whisky                  100438\n",
       "Tequila                  72133\n",
       "Vodka                    62218\n",
       "Água                     43053\n",
       "Gelo                     21018\n",
       "Água com gás             14281\n",
       "Name: produto_valor, dtype: int64"
      ]
     },
     "execution_count": 126,
     "metadata": {},
     "output_type": "execute_result"
    }
   ],
   "source": [
    "graf_dados = df.groupby('produto').count().produto_valor.sort_values(ascending=False)\n",
    "graf_dados"
   ]
  },
  {
   "cell_type": "code",
   "execution_count": 127,
   "metadata": {},
   "outputs": [
    {
     "data": {
      "image/png": "[encoded data removed]",
      "text/plain": [
       "<Figure size 1080x360 with 1 Axes>"
      ]
     },
     "metadata": {
      "needs_background": "light"
     },
     "output_type": "display_data"
    }
   ],
   "source": [
    "plt.figure(figsize=(15,5))\n",
    "plt.bar(graf_dados.index, graf_dados.values)\n",
    "plt.xticks(rotation=90)\n",
    "plt.title('Vendas por produto')\n",
    "plt.show()"
   ]
  },
  {
   "cell_type": "markdown",
   "metadata": {},
   "source": [
    "## Receita por Produto"
   ]
  },
  {
   "cell_type": "code",
   "execution_count": 128,
   "metadata": {},
   "outputs": [
    {
     "data": {
      "text/plain": [
       "produto\n",
       "whisky                  1.295650e+07\n",
       "Vinho Tinto             1.102078e+07\n",
       "Vinho Branco            7.366843e+06\n",
       "Tequila                 6.924047e+06\n",
       "Vodka                   2.102968e+06\n",
       "Cerveja                 6.411480e+05\n",
       "Refrigerante Cola       3.616690e+05\n",
       "Refrigerante Guaraná    3.130369e+05\n",
       "Gelo                    2.143836e+05\n",
       "Água                    9.859137e+04\n",
       "Água com gás            4.698449e+04\n",
       "Name: produto_valor, dtype: float64"
      ]
     },
     "execution_count": 128,
     "metadata": {},
     "output_type": "execute_result"
    }
   ],
   "source": [
    "graf_dados = df[['produto','produto_valor']].groupby('produto').sum().produto_valor.sort_values(ascending=False)\n",
    "graf_dados"
   ]
  },
  {
   "cell_type": "code",
   "execution_count": 129,
   "metadata": {
    "scrolled": false
   },
   "outputs": [
    {
     "data": {
      "image/png": "[encoded data removed]",
      "text/plain": [
       "<Figure size 1080x360 with 1 Axes>"
      ]
     },
     "metadata": {
      "needs_background": "light"
     },
     "output_type": "display_data"
    }
   ],
   "source": [
    "plt.figure(figsize=(15,5))\n",
    "plt.bar(graf_dados.index, graf_dados.values)\n",
    "plt.xticks(rotation=90)\n",
    "plt.title('Receita por produto')\n",
    "plt.show()"
   ]
  },
  {
   "cell_type": "markdown",
   "metadata": {},
   "source": [
    "## Prevendo a inatividade"
   ]
  },
  {
   "cell_type": "code",
   "execution_count": 242,
   "metadata": {},
   "outputs": [],
   "source": [
    "chunk_list = []\n",
    "batch_no = 1\n",
    "df_chunk = pd.read_csv('usuarios_data.csv', chunksize=15000)\n",
    "\n",
    "for chunk in df_chunk:\n",
    "    chunk.to_csv('usuarios_data' + str(batch_no) + '.csv', index=False)\n",
    "    batch_no +=1"
   ]
  },
  {
   "cell_type": "code",
   "execution_count": 243,
   "metadata": {},
   "outputs": [],
   "source": [
    "df_chunked = pd.read_csv('usuarios_data1.csv')"
   ]
  },
  {
   "cell_type": "markdown",
   "metadata": {},
   "source": [
    "### Alvo"
   ]
  },
  {
   "cell_type": "code",
   "execution_count": 244,
   "metadata": {
    "scrolled": false
   },
   "outputs": [
    {
     "data": {
      "text/html": [
       "<div>\n",
       "<style scoped>\n",
       "    .dataframe tbody tr th:only-of-type {\n",
       "        vertical-align: middle;\n",
       "    }\n",
       "\n",
       "    .dataframe tbody tr th {\n",
       "        vertical-align: top;\n",
       "    }\n",
       "\n",
       "    .dataframe thead th {\n",
       "        text-align: right;\n",
       "    }\n",
       "</style>\n",
       "<table border=\"1\" class=\"dataframe\">\n",
       "  <thead>\n",
       "    <tr style=\"text-align: right;\">\n",
       "      <th></th>\n",
       "      <th>genero</th>\n",
       "      <th>idade</th>\n",
       "      <th>user_ativo</th>\n",
       "    </tr>\n",
       "  </thead>\n",
       "  <tbody>\n",
       "    <tr>\n",
       "      <th>0</th>\n",
       "      <td>M</td>\n",
       "      <td>31</td>\n",
       "      <td>1</td>\n",
       "    </tr>\n",
       "    <tr>\n",
       "      <th>1</th>\n",
       "      <td>M</td>\n",
       "      <td>59</td>\n",
       "      <td>1</td>\n",
       "    </tr>\n",
       "    <tr>\n",
       "      <th>2</th>\n",
       "      <td>F</td>\n",
       "      <td>37</td>\n",
       "      <td>0</td>\n",
       "    </tr>\n",
       "    <tr>\n",
       "      <th>3</th>\n",
       "      <td>F</td>\n",
       "      <td>64</td>\n",
       "      <td>0</td>\n",
       "    </tr>\n",
       "    <tr>\n",
       "      <th>4</th>\n",
       "      <td>M</td>\n",
       "      <td>42</td>\n",
       "      <td>0</td>\n",
       "    </tr>\n",
       "    <tr>\n",
       "      <th>...</th>\n",
       "      <td>...</td>\n",
       "      <td>...</td>\n",
       "      <td>...</td>\n",
       "    </tr>\n",
       "    <tr>\n",
       "      <th>14995</th>\n",
       "      <td>F</td>\n",
       "      <td>52</td>\n",
       "      <td>1</td>\n",
       "    </tr>\n",
       "    <tr>\n",
       "      <th>14996</th>\n",
       "      <td>F</td>\n",
       "      <td>49</td>\n",
       "      <td>0</td>\n",
       "    </tr>\n",
       "    <tr>\n",
       "      <th>14997</th>\n",
       "      <td>M</td>\n",
       "      <td>54</td>\n",
       "      <td>0</td>\n",
       "    </tr>\n",
       "    <tr>\n",
       "      <th>14998</th>\n",
       "      <td>M</td>\n",
       "      <td>41</td>\n",
       "      <td>1</td>\n",
       "    </tr>\n",
       "    <tr>\n",
       "      <th>14999</th>\n",
       "      <td>M</td>\n",
       "      <td>34</td>\n",
       "      <td>0</td>\n",
       "    </tr>\n",
       "  </tbody>\n",
       "</table>\n",
       "<p>15000 rows × 3 columns</p>\n",
       "</div>"
      ],
      "text/plain": [
       "      genero  idade  user_ativo\n",
       "0          M     31           1\n",
       "1          M     59           1\n",
       "2          F     37           0\n",
       "3          F     64           0\n",
       "4          M     42           0\n",
       "...      ...    ...         ...\n",
       "14995      F     52           1\n",
       "14996      F     49           0\n",
       "14997      M     54           0\n",
       "14998      M     41           1\n",
       "14999      M     34           0\n",
       "\n",
       "[15000 rows x 3 columns]"
      ]
     },
     "execution_count": 244,
     "metadata": {},
     "output_type": "execute_result"
    }
   ],
   "source": [
    "#dfML = df_chunked[['genero', 'produto','produto_valor','idade','user_ativo']]\n",
    "dfML = df_chunked[['genero', 'idade', 'user_ativo']]\n",
    "dfML = dfML.replace([' ', '-', '/'], '_', regex=True)\n",
    "dfML"
   ]
  },
  {
   "cell_type": "markdown",
   "metadata": {},
   "source": [
    "### Normalização"
   ]
  },
  {
   "cell_type": "code",
   "execution_count": 245,
   "metadata": {},
   "outputs": [
    {
     "data": {
      "text/html": [
       "<div>\n",
       "<style scoped>\n",
       "    .dataframe tbody tr th:only-of-type {\n",
       "        vertical-align: middle;\n",
       "    }\n",
       "\n",
       "    .dataframe tbody tr th {\n",
       "        vertical-align: top;\n",
       "    }\n",
       "\n",
       "    .dataframe thead th {\n",
       "        text-align: right;\n",
       "    }\n",
       "</style>\n",
       "<table border=\"1\" class=\"dataframe\">\n",
       "  <thead>\n",
       "    <tr style=\"text-align: right;\">\n",
       "      <th></th>\n",
       "      <th>genero</th>\n",
       "      <th>idade</th>\n",
       "      <th>user_ativo</th>\n",
       "    </tr>\n",
       "  </thead>\n",
       "  <tbody>\n",
       "    <tr>\n",
       "      <th>0</th>\n",
       "      <td>M</td>\n",
       "      <td>0.392405</td>\n",
       "      <td>1</td>\n",
       "    </tr>\n",
       "    <tr>\n",
       "      <th>1</th>\n",
       "      <td>M</td>\n",
       "      <td>0.746835</td>\n",
       "      <td>1</td>\n",
       "    </tr>\n",
       "    <tr>\n",
       "      <th>2</th>\n",
       "      <td>F</td>\n",
       "      <td>0.468354</td>\n",
       "      <td>0</td>\n",
       "    </tr>\n",
       "    <tr>\n",
       "      <th>3</th>\n",
       "      <td>F</td>\n",
       "      <td>0.810127</td>\n",
       "      <td>0</td>\n",
       "    </tr>\n",
       "    <tr>\n",
       "      <th>4</th>\n",
       "      <td>M</td>\n",
       "      <td>0.531646</td>\n",
       "      <td>0</td>\n",
       "    </tr>\n",
       "    <tr>\n",
       "      <th>...</th>\n",
       "      <td>...</td>\n",
       "      <td>...</td>\n",
       "      <td>...</td>\n",
       "    </tr>\n",
       "    <tr>\n",
       "      <th>14995</th>\n",
       "      <td>F</td>\n",
       "      <td>0.658228</td>\n",
       "      <td>1</td>\n",
       "    </tr>\n",
       "    <tr>\n",
       "      <th>14996</th>\n",
       "      <td>F</td>\n",
       "      <td>0.620253</td>\n",
       "      <td>0</td>\n",
       "    </tr>\n",
       "    <tr>\n",
       "      <th>14997</th>\n",
       "      <td>M</td>\n",
       "      <td>0.683544</td>\n",
       "      <td>0</td>\n",
       "    </tr>\n",
       "    <tr>\n",
       "      <th>14998</th>\n",
       "      <td>M</td>\n",
       "      <td>0.518987</td>\n",
       "      <td>1</td>\n",
       "    </tr>\n",
       "    <tr>\n",
       "      <th>14999</th>\n",
       "      <td>M</td>\n",
       "      <td>0.430380</td>\n",
       "      <td>0</td>\n",
       "    </tr>\n",
       "  </tbody>\n",
       "</table>\n",
       "<p>15000 rows × 3 columns</p>\n",
       "</div>"
      ],
      "text/plain": [
       "      genero     idade  user_ativo\n",
       "0          M  0.392405           1\n",
       "1          M  0.746835           1\n",
       "2          F  0.468354           0\n",
       "3          F  0.810127           0\n",
       "4          M  0.531646           0\n",
       "...      ...       ...         ...\n",
       "14995      F  0.658228           1\n",
       "14996      F  0.620253           0\n",
       "14997      M  0.683544           0\n",
       "14998      M  0.518987           1\n",
       "14999      M  0.430380           0\n",
       "\n",
       "[15000 rows x 3 columns]"
      ]
     },
     "execution_count": 245,
     "metadata": {},
     "output_type": "execute_result"
    }
   ],
   "source": [
    "dfML['idade'] = dfML['idade']/dfML['idade'].max()\n",
    "dfML"
   ]
  },
  {
   "cell_type": "markdown",
   "metadata": {},
   "source": [
    "### Dados Categóricos"
   ]
  },
  {
   "cell_type": "code",
   "execution_count": 246,
   "metadata": {},
   "outputs": [
    {
     "data": {
      "text/html": [
       "<div>\n",
       "<style scoped>\n",
       "    .dataframe tbody tr th:only-of-type {\n",
       "        vertical-align: middle;\n",
       "    }\n",
       "\n",
       "    .dataframe tbody tr th {\n",
       "        vertical-align: top;\n",
       "    }\n",
       "\n",
       "    .dataframe thead th {\n",
       "        text-align: right;\n",
       "    }\n",
       "</style>\n",
       "<table border=\"1\" class=\"dataframe\">\n",
       "  <thead>\n",
       "    <tr style=\"text-align: right;\">\n",
       "      <th></th>\n",
       "      <th>genero_F</th>\n",
       "      <th>genero_M</th>\n",
       "    </tr>\n",
       "  </thead>\n",
       "  <tbody>\n",
       "    <tr>\n",
       "      <th>0</th>\n",
       "      <td>0</td>\n",
       "      <td>1</td>\n",
       "    </tr>\n",
       "    <tr>\n",
       "      <th>1</th>\n",
       "      <td>0</td>\n",
       "      <td>1</td>\n",
       "    </tr>\n",
       "    <tr>\n",
       "      <th>2</th>\n",
       "      <td>1</td>\n",
       "      <td>0</td>\n",
       "    </tr>\n",
       "    <tr>\n",
       "      <th>3</th>\n",
       "      <td>1</td>\n",
       "      <td>0</td>\n",
       "    </tr>\n",
       "    <tr>\n",
       "      <th>4</th>\n",
       "      <td>0</td>\n",
       "      <td>1</td>\n",
       "    </tr>\n",
       "    <tr>\n",
       "      <th>...</th>\n",
       "      <td>...</td>\n",
       "      <td>...</td>\n",
       "    </tr>\n",
       "    <tr>\n",
       "      <th>14995</th>\n",
       "      <td>1</td>\n",
       "      <td>0</td>\n",
       "    </tr>\n",
       "    <tr>\n",
       "      <th>14996</th>\n",
       "      <td>1</td>\n",
       "      <td>0</td>\n",
       "    </tr>\n",
       "    <tr>\n",
       "      <th>14997</th>\n",
       "      <td>0</td>\n",
       "      <td>1</td>\n",
       "    </tr>\n",
       "    <tr>\n",
       "      <th>14998</th>\n",
       "      <td>0</td>\n",
       "      <td>1</td>\n",
       "    </tr>\n",
       "    <tr>\n",
       "      <th>14999</th>\n",
       "      <td>0</td>\n",
       "      <td>1</td>\n",
       "    </tr>\n",
       "  </tbody>\n",
       "</table>\n",
       "<p>15000 rows × 2 columns</p>\n",
       "</div>"
      ],
      "text/plain": [
       "       genero_F  genero_M\n",
       "0             0         1\n",
       "1             0         1\n",
       "2             1         0\n",
       "3             1         0\n",
       "4             0         1\n",
       "...         ...       ...\n",
       "14995         1         0\n",
       "14996         1         0\n",
       "14997         0         1\n",
       "14998         0         1\n",
       "14999         0         1\n",
       "\n",
       "[15000 rows x 2 columns]"
      ]
     },
     "execution_count": 246,
     "metadata": {},
     "output_type": "execute_result"
    }
   ],
   "source": [
    "#col_cat = ['genero', 'produto']\n",
    "col_cat = ['genero']\n",
    "dfML_dummies = pd.get_dummies(dfML[col_cat].astype(str), drop_first=False)\n",
    "dfML_dummies"
   ]
  },
  {
   "cell_type": "code",
   "execution_count": 247,
   "metadata": {},
   "outputs": [
    {
     "data": {
      "text/html": [
       "<div>\n",
       "<style scoped>\n",
       "    .dataframe tbody tr th:only-of-type {\n",
       "        vertical-align: middle;\n",
       "    }\n",
       "\n",
       "    .dataframe tbody tr th {\n",
       "        vertical-align: top;\n",
       "    }\n",
       "\n",
       "    .dataframe thead th {\n",
       "        text-align: right;\n",
       "    }\n",
       "</style>\n",
       "<table border=\"1\" class=\"dataframe\">\n",
       "  <thead>\n",
       "    <tr style=\"text-align: right;\">\n",
       "      <th></th>\n",
       "      <th>idade</th>\n",
       "      <th>user_ativo</th>\n",
       "      <th>genero_F</th>\n",
       "      <th>genero_M</th>\n",
       "    </tr>\n",
       "  </thead>\n",
       "  <tbody>\n",
       "    <tr>\n",
       "      <th>0</th>\n",
       "      <td>0.392405</td>\n",
       "      <td>1</td>\n",
       "      <td>0</td>\n",
       "      <td>1</td>\n",
       "    </tr>\n",
       "    <tr>\n",
       "      <th>1</th>\n",
       "      <td>0.746835</td>\n",
       "      <td>1</td>\n",
       "      <td>0</td>\n",
       "      <td>1</td>\n",
       "    </tr>\n",
       "    <tr>\n",
       "      <th>2</th>\n",
       "      <td>0.468354</td>\n",
       "      <td>0</td>\n",
       "      <td>1</td>\n",
       "      <td>0</td>\n",
       "    </tr>\n",
       "    <tr>\n",
       "      <th>3</th>\n",
       "      <td>0.810127</td>\n",
       "      <td>0</td>\n",
       "      <td>1</td>\n",
       "      <td>0</td>\n",
       "    </tr>\n",
       "    <tr>\n",
       "      <th>4</th>\n",
       "      <td>0.531646</td>\n",
       "      <td>0</td>\n",
       "      <td>0</td>\n",
       "      <td>1</td>\n",
       "    </tr>\n",
       "    <tr>\n",
       "      <th>...</th>\n",
       "      <td>...</td>\n",
       "      <td>...</td>\n",
       "      <td>...</td>\n",
       "      <td>...</td>\n",
       "    </tr>\n",
       "    <tr>\n",
       "      <th>14995</th>\n",
       "      <td>0.658228</td>\n",
       "      <td>1</td>\n",
       "      <td>1</td>\n",
       "      <td>0</td>\n",
       "    </tr>\n",
       "    <tr>\n",
       "      <th>14996</th>\n",
       "      <td>0.620253</td>\n",
       "      <td>0</td>\n",
       "      <td>1</td>\n",
       "      <td>0</td>\n",
       "    </tr>\n",
       "    <tr>\n",
       "      <th>14997</th>\n",
       "      <td>0.683544</td>\n",
       "      <td>0</td>\n",
       "      <td>0</td>\n",
       "      <td>1</td>\n",
       "    </tr>\n",
       "    <tr>\n",
       "      <th>14998</th>\n",
       "      <td>0.518987</td>\n",
       "      <td>1</td>\n",
       "      <td>0</td>\n",
       "      <td>1</td>\n",
       "    </tr>\n",
       "    <tr>\n",
       "      <th>14999</th>\n",
       "      <td>0.430380</td>\n",
       "      <td>0</td>\n",
       "      <td>0</td>\n",
       "      <td>1</td>\n",
       "    </tr>\n",
       "  </tbody>\n",
       "</table>\n",
       "<p>15000 rows × 4 columns</p>\n",
       "</div>"
      ],
      "text/plain": [
       "          idade  user_ativo  genero_F  genero_M\n",
       "0      0.392405           1         0         1\n",
       "1      0.746835           1         0         1\n",
       "2      0.468354           0         1         0\n",
       "3      0.810127           0         1         0\n",
       "4      0.531646           0         0         1\n",
       "...         ...         ...       ...       ...\n",
       "14995  0.658228           1         1         0\n",
       "14996  0.620253           0         1         0\n",
       "14997  0.683544           0         0         1\n",
       "14998  0.518987           1         0         1\n",
       "14999  0.430380           0         0         1\n",
       "\n",
       "[15000 rows x 4 columns]"
      ]
     },
     "execution_count": 247,
     "metadata": {},
     "output_type": "execute_result"
    }
   ],
   "source": [
    "dfML = pd.concat([dfML, dfML_dummies], axis=1) \n",
    "dfML = dfML.drop(col_cat, axis=1)\n",
    "dfML"
   ]
  },
  {
   "cell_type": "markdown",
   "metadata": {},
   "source": [
    "## Dados de treinamento e de teste"
   ]
  },
  {
   "cell_type": "code",
   "execution_count": 248,
   "metadata": {},
   "outputs": [
    {
     "data": {
      "text/html": [
       "<div>\n",
       "<style scoped>\n",
       "    .dataframe tbody tr th:only-of-type {\n",
       "        vertical-align: middle;\n",
       "    }\n",
       "\n",
       "    .dataframe tbody tr th {\n",
       "        vertical-align: top;\n",
       "    }\n",
       "\n",
       "    .dataframe thead th {\n",
       "        text-align: right;\n",
       "    }\n",
       "</style>\n",
       "<table border=\"1\" class=\"dataframe\">\n",
       "  <thead>\n",
       "    <tr style=\"text-align: right;\">\n",
       "      <th></th>\n",
       "      <th>idade</th>\n",
       "      <th>genero_F</th>\n",
       "      <th>genero_M</th>\n",
       "    </tr>\n",
       "  </thead>\n",
       "  <tbody>\n",
       "    <tr>\n",
       "      <th>1</th>\n",
       "      <td>0.746835</td>\n",
       "      <td>0</td>\n",
       "      <td>1</td>\n",
       "    </tr>\n",
       "    <tr>\n",
       "      <th>2</th>\n",
       "      <td>0.468354</td>\n",
       "      <td>1</td>\n",
       "      <td>0</td>\n",
       "    </tr>\n",
       "  </tbody>\n",
       "</table>\n",
       "</div>"
      ],
      "text/plain": [
       "      idade  genero_F  genero_M\n",
       "1  0.746835         0         1\n",
       "2  0.468354         1         0"
      ]
     },
     "execution_count": 248,
     "metadata": {},
     "output_type": "execute_result"
    }
   ],
   "source": [
    "y = dfML.user_ativo\n",
    "X = dfML.drop(['user_ativo'], axis=1)\n",
    "X_train, X_test, y_train, y_test = train_test_split(X, y, test_size=0.3, random_state=42)\n",
    "\n",
    "X_new = X.loc[[1,2]]\n",
    "X_new"
   ]
  },
  {
   "cell_type": "markdown",
   "metadata": {},
   "source": [
    "## Regressão Logística"
   ]
  },
  {
   "cell_type": "code",
   "execution_count": 249,
   "metadata": {
    "scrolled": false
   },
   "outputs": [
    {
     "name": "stdout",
     "output_type": "stream",
     "text": [
      "                 Generalized Linear Model Regression Results                  \n",
      "==============================================================================\n",
      "Dep. Variable:             user_ativo   No. Observations:                15000\n",
      "Model:                            GLM   Df Residuals:                    14997\n",
      "Model Family:                Binomial   Df Model:                            2\n",
      "Link Function:                  logit   Scale:                          1.0000\n",
      "Method:                          IRLS   Log-Likelihood:                -8638.8\n",
      "Date:                Thu, 01 Apr 2021   Deviance:                       17278.\n",
      "Time:                        22:04:08   Pearson chi2:                 1.49e+04\n",
      "No. Iterations:                   100                                         \n",
      "Covariance Type:            nonrobust                                         \n",
      "==============================================================================\n",
      "                 coef    std err          z      P>|z|      [0.025      0.975]\n",
      "------------------------------------------------------------------------------\n",
      "Intercept  -8.858e+12   5.36e+12     -1.654      0.098   -1.94e+13    1.64e+12\n",
      "idade         -0.2586      0.105     -2.458      0.014      -0.465      -0.052\n",
      "genero_F    8.858e+12   5.36e+12      1.654      0.098   -1.64e+12    1.94e+13\n",
      "genero_M    8.858e+12   5.36e+12      1.654      0.098   -1.64e+12    1.94e+13\n",
      "==============================================================================\n"
     ]
    }
   ],
   "source": [
    "all_col_with_plus = ' + '.join(dfML.drop(['user_ativo'], axis=1).columns)\n",
    "modelo = smf.glm(formula='user_ativo ~ ' + all_col_with_plus, data=dfML,\n",
    "                family = sm.families.Binomial()).fit()\n",
    "print(modelo.summary())"
   ]
  },
  {
   "cell_type": "code",
   "execution_count": 250,
   "metadata": {},
   "outputs": [
    {
     "name": "stdout",
     "output_type": "stream",
     "text": [
      "- Matriz de Confusão\n",
      "[[3352    0]\n",
      " [1148    0]]\n",
      "\n",
      "- Reporte completo\n",
      "              precision    recall  f1-score   support\n",
      "\n",
      "           0       0.74      1.00      0.85     11063\n",
      "           1       1.00      0.00      0.00      3937\n",
      "\n",
      "    accuracy                           0.74     15000\n",
      "   macro avg       0.87      0.50      0.42     15000\n",
      "weighted avg       0.81      0.74      0.63     15000\n",
      "\n",
      "\n",
      "- Reporte teste\n",
      "              precision    recall  f1-score   support\n",
      "\n",
      "           0       0.74      1.00      0.85      3352\n",
      "           1       0.00      0.00      0.00      1148\n",
      "\n",
      "    accuracy                           0.74      4500\n",
      "   macro avg       0.37      0.50      0.43      4500\n",
      "weighted avg       0.55      0.74      0.64      4500\n",
      "\n"
     ]
    },
    {
     "name": "stderr",
     "output_type": "stream",
     "text": [
      "C:\\Users\\anafr\\anaconda3\\lib\\site-packages\\sklearn\\metrics\\_classification.py:1221: UndefinedMetricWarning: Precision and F-score are ill-defined and being set to 0.0 in labels with no predicted samples. Use `zero_division` parameter to control this behavior.\n",
      "  _warn_prf(average, modifier, msg_start, len(result))\n"
     ]
    }
   ],
   "source": [
    "model = LogisticRegression(penalty='none', solver='newton-cg')\n",
    "model.fit(X_train, y_train)\n",
    "\n",
    "print('- Matriz de Confusão')\n",
    "print(confusion_matrix(y_test, model.predict(X_test)))\n",
    "print('\\n- Reporte completo')\n",
    "print(classification_report(y, model.predict(X), zero_division=1))\n",
    "print('\\n- Reporte teste')\n",
    "print(classification_report(y_test, model.predict(X_test)))"
   ]
  },
  {
   "cell_type": "code",
   "execution_count": 251,
   "metadata": {},
   "outputs": [
    {
     "data": {
      "text/plain": [
       "array([0, 0], dtype=int64)"
      ]
     },
     "execution_count": 251,
     "metadata": {},
     "output_type": "execute_result"
    }
   ],
   "source": [
    "model.predict(X_new)"
   ]
  },
  {
   "cell_type": "code",
   "execution_count": 252,
   "metadata": {},
   "outputs": [
    {
     "name": "stdout",
     "output_type": "stream",
     "text": [
      "0.7375333333333334\n"
     ]
    }
   ],
   "source": [
    "reg_log = LogisticRegression().fit(X_train, y_train)\n",
    "print(reg_log.score(X,y))"
   ]
  }
 ],
 "metadata": {
  "kernelspec": {
   "display_name": "Python 3",
   "language": "python",
   "name": "python3"
  },
  "language_info": {
   "codemirror_mode": {
    "name": "ipython",
    "version": 3
   },
   "file_extension": ".py",
   "mimetype": "text/x-python",
   "name": "python",
   "nbconvert_exporter": "python",
   "pygments_lexer": "ipython3",
   "version": "3.8.5"
  }
 },
 "nbformat": 4,
 "nbformat_minor": 4
}
